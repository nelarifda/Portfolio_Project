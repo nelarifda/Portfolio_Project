{
 "cells": [
  {
   "cell_type": "markdown",
   "id": "53c29de4",
   "metadata": {},
   "source": [
    "\n",
    "# BMI Calculator"
   ]
  },
  {
   "cell_type": "code",
   "execution_count": 19,
   "id": "7e023342",
   "metadata": {},
   "outputs": [
    {
     "name": "stdout",
     "output_type": "stream",
     "text": [
      "Enter your name: nela\n",
      "Enter your weight in pounds: 130\n",
      "Enter your height in inches: 62\n",
      "Your BMI :  23.77471383975026\n",
      "nela, you are normal weight, congratulations!\n"
     ]
    }
   ],
   "source": [
    "name = input (\"Enter your name: \")\n",
    "weight = int(input (\"Enter your weight in pounds: \"))\n",
    "height = int(input (\"Enter your height in inches: \"))\n",
    "BMI = (weight*703)/(height*height)\n",
    "BMI2 = \"Your BMI : \"\n",
    "print (BMI2, BMI)\n",
    "\n",
    "if BMI>0 :\n",
    "    if (BMI<18.5) :\n",
    "        print (name + \", you are underweight.\")\n",
    "    elif (BMI <= 24.9) :\n",
    "        print (name + \", you are normal weight, congratulations!\")\n",
    "    elif (BMI <= 29.9) :\n",
    "        print (name + \", you are overweight.\")\n",
    "    elif (BMI <= 34.9) :\n",
    "        print (name + \", you are obese.\")\n",
    "    elif (BMI <= 39.9) :\n",
    "        print (name + \", you are severely obese.\")\n",
    "else :\n",
    "    print (name + \", you are morbidly obese.\")"
   ]
  },
  {
   "cell_type": "code",
   "execution_count": null,
   "id": "4b4db3d4",
   "metadata": {},
   "outputs": [],
   "source": []
  }
 ],
 "metadata": {
  "kernelspec": {
   "display_name": "Python 3 (ipykernel)",
   "language": "python",
   "name": "python3"
  },
  "language_info": {
   "codemirror_mode": {
    "name": "ipython",
    "version": 3
   },
   "file_extension": ".py",
   "mimetype": "text/x-python",
   "name": "python",
   "nbconvert_exporter": "python",
   "pygments_lexer": "ipython3",
   "version": "3.11.5"
  }
 },
 "nbformat": 4,
 "nbformat_minor": 5
}
